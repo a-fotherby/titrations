{
 "cells": [
  {
   "cell_type": "code",
   "execution_count": null,
   "metadata": {},
   "outputs": [],
   "source": [
    "import xarray as xr\n",
    "\n",
    "ds = xr.open_dataset(\"data/titration_data.nc\")\n",
    "\n",
    "# Analyze the dataset.\n",
    "ds_out = analyze_dataset(ds, n_points=3)\n",
    "print(ds_out)\n",
    "\n",
    "# Plot analysis for multiple samples (e.g., S1 and S3).\n",
    "plot_gran_analysis_ds(ds, sample_ids=ds_out.coords['sample'].values, optimize=True)"
   ]
  },
  {
   "cell_type": "code",
   "execution_count": null,
   "metadata": {},
   "outputs": [],
   "source": []
  }
 ],
 "metadata": {
  "kernelspec": {
   "display_name": "sukinda",
   "language": "python",
   "name": "python3"
  },
  "language_info": {
   "name": "python",
   "version": "3.13.0"
  }
 },
 "nbformat": 4,
 "nbformat_minor": 2
}
