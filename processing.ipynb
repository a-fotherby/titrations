{
 "cells": [
  {
   "cell_type": "code",
   "execution_count": 3,
   "metadata": {},
   "outputs": [],
   "source": [
    "from titration import parse_titration_data, build_xarray_dataset\n",
    "\n",
    "with open('data/titration_data.txt', 'r', encoding='utf-8') as f:\n",
    "    text = f.read()\n",
    "\n",
    "# Parse the text into a list of sample dictionaries.\n",
    "samples = parse_titration_data(text)\n",
    "# Build the xarray.Dataset.\n",
    "ds = build_xarray_dataset(samples)\n",
    "\n",
    "from titration import add_moles_variable\n",
    "# Example usage (assuming ds is your dataset):\n",
    "ds = add_moles_variable(ds)\n",
    "\n",
    "from titration import prepend_initial_ph\n",
    "ds = prepend_initial_ph(ds)\n",
    "\n",
    "ds.to_netcdf('data/titration_data.nc')"
   ]
  },
  {
   "cell_type": "code",
   "execution_count": null,
   "metadata": {},
   "outputs": [],
   "source": []
  }
 ],
 "metadata": {
  "kernelspec": {
   "display_name": "sukinda",
   "language": "python",
   "name": "python3"
  },
  "language_info": {
   "codemirror_mode": {
    "name": "ipython",
    "version": 3
   },
   "file_extension": ".py",
   "mimetype": "text/x-python",
   "name": "python",
   "nbconvert_exporter": "python",
   "pygments_lexer": "ipython3",
   "version": "3.13.0"
  }
 },
 "nbformat": 4,
 "nbformat_minor": 2
}
